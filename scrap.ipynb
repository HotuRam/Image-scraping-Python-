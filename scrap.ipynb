{
 "cells": [
  {
   "cell_type": "code",
   "execution_count": 68,
   "source": [
    "# Scraping Multiple images of Cats, Dogs, and whatever you want...\r\n",
    "# so its time to create our own dataset by downloading images."
   ],
   "outputs": [],
   "metadata": {}
  },
  {
   "cell_type": "code",
   "execution_count": 69,
   "source": [
    "# for requirements \r\n",
    "!pip install -r requirements.txt"
   ],
   "outputs": [
    {
     "output_type": "stream",
     "name": "stdout",
     "text": [
      "Requirement already satisfied: Pillow in c:\\users\\my-pc\\anaconda3\\envs\\credit\\lib\\site-packages (from -r requirements.txt (line 1)) (8.3.1)\n",
      "Requirement already satisfied: selenium in c:\\users\\my-pc\\anaconda3\\envs\\credit\\lib\\site-packages (from -r requirements.txt (line 2)) (3.141.0)\n",
      "Requirement already satisfied: requests in c:\\users\\my-pc\\anaconda3\\envs\\credit\\lib\\site-packages (from -r requirements.txt (line 3)) (2.26.0)\n",
      "Requirement already satisfied: certifi>=2017.4.17 in c:\\users\\my-pc\\anaconda3\\envs\\credit\\lib\\site-packages (from requests->-r requirements.txt (line 3)) (2021.5.30)\n",
      "Requirement already satisfied: urllib3<1.27,>=1.21.1 in c:\\users\\my-pc\\anaconda3\\envs\\credit\\lib\\site-packages (from requests->-r requirements.txt (line 3)) (1.26.6)\n",
      "Requirement already satisfied: charset-normalizer~=2.0.0 in c:\\users\\my-pc\\anaconda3\\envs\\credit\\lib\\site-packages (from requests->-r requirements.txt (line 3)) (2.0.4)\n",
      "Requirement already satisfied: idna<4,>=2.5 in c:\\users\\my-pc\\anaconda3\\envs\\credit\\lib\\site-packages (from requests->-r requirements.txt (line 3)) (3.2)\n"
     ]
    }
   ],
   "metadata": {}
  },
  {
   "cell_type": "markdown",
   "source": [
    "## Download chrome driver according to your chrome browser \r\n",
    "\r\n",
    "Link - https://chromedriver.chromium.org/downloads"
   ],
   "metadata": {}
  },
  {
   "cell_type": "code",
   "execution_count": 70,
   "source": [
    "import selenium\r\n",
    "import time\r\n",
    "from selenium import webdriver\r\n",
    "import io\r\n",
    "from io import StringIO\r\n",
    "import string\r\n",
    "from PIL import Image\r\n",
    "import hashlib\r\n",
    "import os\r\n",
    "import requests\r\n",
    "\r\n",
    "DRIVER_PATH = 'chromedriver.exe'\r\n",
    "# make sure you put chromedriver exe file in same folder as where is your py file (Important)\r\n",
    "# make sure you put chromedriver exe file in same folder as where is your py file (Important)\r\n",
    "# my chrome browser Version 93.0.4577.63 (Official Build) (64-bit) this diver is work for this only,\r\n",
    "# so you have to check your version and download the driver first.\r\n",
    "wd = webdriver.Chrome(executable_path=DRIVER_PATH)"
   ],
   "outputs": [],
   "metadata": {}
  },
  {
   "cell_type": "code",
   "execution_count": 71,
   "source": [
    "wd.get('https://google.com')"
   ],
   "outputs": [],
   "metadata": {}
  },
  {
   "cell_type": "code",
   "execution_count": 72,
   "source": [
    "search_box = wd.find_element_by_css_selector('input.gLFyf')\r\n",
    "search_box.send_keys('Pandas')"
   ],
   "outputs": [],
   "metadata": {}
  },
  {
   "cell_type": "code",
   "execution_count": 73,
   "source": [
    "wd.quit() # closing the driver"
   ],
   "outputs": [],
   "metadata": {}
  },
  {
   "cell_type": "code",
   "execution_count": 74,
   "source": [
    "# for download the image \r\n",
    "# !pip install Pillow"
   ],
   "outputs": [],
   "metadata": {}
  },
  {
   "cell_type": "code",
   "execution_count": 75,
   "source": [
    "# def fetch_image_urls(query:str, max_links_to_fetch:int, wd:webdriver, sleep_between_interactions:int=1):\r\n",
    "def fetch_image_urls(query:'tortoise', max_links_to_fetch:5, wd:'instantiated Webdriver', sleep_between_interactions:int=1):\r\n",
    "\r\n",
    "    # query : Search term, like Dog\r\n",
    "    # max_links_to_fetch : Number of links the scraper is supposed to collect\r\n",
    "    # webdriver : instantiated Webdriver\r\n",
    "    \r\n",
    "    def scroll_to_end(wd):\r\n",
    "        wd.execute_script(\"window.scrollTo(0, document.body.scrollHeight);\")\r\n",
    "        time.sleep(sleep_between_interactions)    \r\n",
    "    \r\n",
    "    # build the google query\r\n",
    "    search_url = \"https://www.google.com/search?safe=off&site=&tbm=isch&source=hp&q={q}&oq={q}&gs_l=img\"\r\n",
    "\r\n",
    "    # load the page\r\n",
    "    wd.get(search_url.format(q=query))\r\n",
    "\r\n",
    "    image_urls = set()\r\n",
    "    image_count = 0\r\n",
    "    results_start = 0\r\n",
    "    while image_count < max_links_to_fetch:\r\n",
    "        scroll_to_end(wd)\r\n",
    "\r\n",
    "        # get all image thumbnail results\r\n",
    "        thumbnail_results = wd.find_elements_by_css_selector(\"img.Q4LuWd\")\r\n",
    "        number_results = len(thumbnail_results)\r\n",
    "        \r\n",
    "        print(f\"Found: {number_results} search results. Extracting links from {results_start}:{number_results}\")\r\n",
    "        \r\n",
    "        for img in thumbnail_results[results_start:number_results]:\r\n",
    "            # try to click every thumbnail such that we can get the real image behind it\r\n",
    "            try:\r\n",
    "                img.click()\r\n",
    "                time.sleep(sleep_between_interactions)\r\n",
    "            except Exception:\r\n",
    "                continue\r\n",
    "\r\n",
    "            # extract image urls    \r\n",
    "            actual_images = wd.find_elements_by_css_selector('img.n3VNCb')\r\n",
    "            for actual_image in actual_images:\r\n",
    "                if actual_image.get_attribute('src') and 'http' in actual_image.get_attribute('src'):\r\n",
    "                    image_urls.add(actual_image.get_attribute('src'))\r\n",
    "\r\n",
    "            image_count = len(image_urls)\r\n",
    "\r\n",
    "            if len(image_urls) >= max_links_to_fetch:\r\n",
    "                print(f\"Found: {len(image_urls)} image links, done!\")\r\n",
    "                break\r\n",
    "        else:\r\n",
    "            print(\"Found:\", len(image_urls), \"image links, looking for more ...\")\r\n",
    "            time.sleep(30)\r\n",
    "            return\r\n",
    "            load_more_button = wd.find_element_by_css_selector(\".mye4qd\")\r\n",
    "            if load_more_button:\r\n",
    "                wd.execute_script(\"document.querySelector('.mye4qd').click();\")\r\n",
    "\r\n",
    "        # move the result startpoint further down\r\n",
    "        results_start = len(thumbnail_results)\r\n",
    "\r\n",
    "    return image_urls"
   ],
   "outputs": [],
   "metadata": {}
  },
  {
   "cell_type": "code",
   "execution_count": 76,
   "source": [
    "def persist_image(folder_path:str,url:str):\r\n",
    "    try:\r\n",
    "        image_content = requests.get(url).content\r\n",
    "\r\n",
    "    except Exception as e:\r\n",
    "        print(f\"ERROR - Could not download {url} - {e}\")\r\n",
    "\r\n",
    "    try:\r\n",
    "        image_file = io.BytesIO(image_content)\r\n",
    "        image = Image.open(image_file).convert('RGB')\r\n",
    "        file_path = os.path.join(folder_path,hashlib.sha1(image_content).hexdigest()[:10] + '.jpg')\r\n",
    "        with open(file_path, 'wb') as f:\r\n",
    "            image.save(f, \"JPEG\", quality=85)\r\n",
    "        print(f\"SUCCESS - saved {url} - as {file_path}\")\r\n",
    "    except Exception as e:\r\n",
    "        print(f\"ERROR - Could not save {url} - {e}\")"
   ],
   "outputs": [],
   "metadata": {}
  },
  {
   "cell_type": "code",
   "execution_count": 77,
   "source": [
    "def search_and_download(search_term:str,driver_path:str,target_path='./images',number_images=10):\r\n",
    "    target_folder = os.path.join(target_path,'_'.join(search_term.lower().split(' ')))\r\n",
    "\r\n",
    "    if not os.path.exists(target_folder):\r\n",
    "        os.makedirs(target_folder)\r\n",
    "\r\n",
    "    with webdriver.Chrome(executable_path=driver_path) as wd:\r\n",
    "        res = fetch_image_urls(search_term, number_images, wd=wd, sleep_between_interactions=0.5)\r\n",
    "        \r\n",
    "    for elem in res:\r\n",
    "        persist_image(target_folder,elem)"
   ],
   "outputs": [],
   "metadata": {}
  },
  {
   "cell_type": "code",
   "execution_count": 78,
   "source": [
    "search_term = 'tortoise'\r\n",
    "search_and_download(\r\n",
    "    search_term=search_term,\r\n",
    "    driver_path=DRIVER_PATH\r\n",
    ")\r\n"
   ],
   "outputs": [
    {
     "output_type": "stream",
     "name": "stdout",
     "text": [
      "Found: 100 search results. Extracting links from 0:100\n",
      "Found: 10 image links, done!\n",
      "SUCCESS - saved https://res.cloudinary.com/dk-find-out/image/upload/q_80,w_1920,f_auto/DCTM_Penguin_UK_DK_AL345587_aoxfca2_ebtgry.jpg - as ./images\\tortoise\\35c376835d.jpg\n",
      "SUCCESS - saved https://a-z-animals.com/media/2019/11/Tortoise-radiated.jpg - as ./images\\tortoise\\2b336787f4.jpg\n",
      "SUCCESS - saved https://i.natgeofe.com/n/db6b3131-73af-404a-a3ca-51c6f15286c3/rare-tortoise-missing_3x4.jpg - as ./images\\tortoise\\1e449f34b3.jpg\n",
      "SUCCESS - saved https://m.media-amazon.com/images/I/81pnPeU7dYL._SL1500_.jpg - as ./images\\tortoise\\c18f746b9d.jpg\n",
      "SUCCESS - saved https://helios-i.mashable.com/imagery/articles/04if4A1xs7Q0purDN53SN1S/hero-image.fill.size_1248x702.v1630148708.png - as ./images\\tortoise\\3bda674e09.jpg\n",
      "SUCCESS - saved https://cdn.britannica.com/25/178225-050-AAF9B658/Desert-tortoise.jpg - as ./images\\tortoise\\f0d5f60fce.jpg\n",
      "SUCCESS - saved https://files.worldwildlife.org/wwfcmsprod/images/HERO_Giant_Tortoise/hero_small/1cylh0cts4_Medium_WW288394.jpg - as ./images\\tortoise\\30afb63bf5.jpg\n",
      "SUCCESS - saved https://image.shutterstock.com/image-vector/vector-illustration-cute-turtle-cartoon-260nw-565255915.jpg - as ./images\\tortoise\\71ce11ad0e.jpg\n",
      "SUCCESS - saved https://scitechdaily.com/images/Tamar-Gutnick-Tortoise-George.jpg - as ./images\\tortoise\\13ececbaba.jpg\n",
      "SUCCESS - saved https://i.natgeofe.com/n/6d13e39a-df45-4f46-9ab5-58428199721c/01indiastartortoise_16x9.jpg?w=1200 - as ./images\\tortoise\\169b929aac.jpg\n"
     ]
    }
   ],
   "metadata": {}
  },
  {
   "cell_type": "code",
   "execution_count": null,
   "source": [],
   "outputs": [],
   "metadata": {}
  }
 ],
 "metadata": {
  "orig_nbformat": 4,
  "language_info": {
   "name": "python",
   "version": "3.7.11",
   "mimetype": "text/x-python",
   "codemirror_mode": {
    "name": "ipython",
    "version": 3
   },
   "pygments_lexer": "ipython3",
   "nbconvert_exporter": "python",
   "file_extension": ".py"
  },
  "kernelspec": {
   "name": "python3",
   "display_name": "Python 3.7.11 64-bit ('credit': conda)"
  },
  "interpreter": {
   "hash": "3f2cce15f9523cc617e64d766c0d361895395c2a3bc5a1750d152f120ce34420"
  }
 },
 "nbformat": 4,
 "nbformat_minor": 2
}