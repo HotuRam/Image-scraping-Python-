{
 "cells": [
  {
   "cell_type": "code",
   "execution_count": 23,
   "source": [
    "# Scraping Multiple images of Cats, Dogs, and whatever you want...\r\n",
    "# so its time to create our own dataset by downloading images."
   ],
   "outputs": [],
   "metadata": {}
  },
  {
   "cell_type": "code",
   "execution_count": 24,
   "source": [
    "# for requirements \r\n",
    "!pip install -r requirements.txt"
   ],
   "outputs": [
    {
     "output_type": "stream",
     "name": "stdout",
     "text": [
      "Requirement already satisfied: Pillow in c:\\users\\my-pc\\anaconda3\\envs\\webscraping\\lib\\site-packages (from -r requirements.txt (line 1)) (8.3.2)\n",
      "Requirement already satisfied: selenium in c:\\users\\my-pc\\anaconda3\\envs\\webscraping\\lib\\site-packages (from -r requirements.txt (line 2)) (3.141.0)\n",
      "Requirement already satisfied: requests in c:\\users\\my-pc\\anaconda3\\envs\\webscraping\\lib\\site-packages (from -r requirements.txt (line 3)) (2.26.0)\n",
      "Requirement already satisfied: charset-normalizer~=2.0.0 in c:\\users\\my-pc\\anaconda3\\envs\\webscraping\\lib\\site-packages (from requests->-r requirements.txt (line 3)) (2.0.5)\n",
      "Requirement already satisfied: idna<4,>=2.5 in c:\\users\\my-pc\\anaconda3\\envs\\webscraping\\lib\\site-packages (from requests->-r requirements.txt (line 3)) (3.2)\n",
      "Requirement already satisfied: urllib3<1.27,>=1.21.1 in c:\\users\\my-pc\\anaconda3\\envs\\webscraping\\lib\\site-packages (from requests->-r requirements.txt (line 3)) (1.26.6)\n",
      "Requirement already satisfied: certifi>=2017.4.17 in c:\\users\\my-pc\\anaconda3\\envs\\webscraping\\lib\\site-packages (from requests->-r requirements.txt (line 3)) (2021.5.30)\n"
     ]
    }
   ],
   "metadata": {}
  },
  {
   "cell_type": "markdown",
   "source": [
    "## Download chrome driver according to your chrome browser \r\n",
    "\r\n",
    "Link - https://chromedriver.chromium.org/downloads"
   ],
   "metadata": {}
  },
  {
   "cell_type": "code",
   "execution_count": 25,
   "source": [
    "import selenium\r\n",
    "import time\r\n",
    "from selenium import webdriver\r\n",
    "import io\r\n",
    "from io import StringIO\r\n",
    "import string\r\n",
    "from PIL import Image\r\n",
    "import hashlib\r\n",
    "import os\r\n",
    "import requests\r\n",
    "\r\n",
    "DRIVER_PATH = 'chromedriver.exe'\r\n",
    "# driver download link - https://chromedriver.chromium.org/downloads\r\n",
    "# make sure you put chromedriver exe file in same folder as where is your py file (Important)\r\n",
    "# make sure you put chromedriver exe file in same folder as where is your py file (Important)\r\n",
    "# my chrome browser Version 93.0.4577.63 (Official Build) (64-bit) this diver is work for this only,\r\n",
    "# so you have to check your version and download the driver first.\r\n",
    "wd = webdriver.Chrome(executable_path=DRIVER_PATH)"
   ],
   "outputs": [],
   "metadata": {}
  },
  {
   "cell_type": "code",
   "execution_count": 26,
   "source": [
    "wd.get('https://google.com')"
   ],
   "outputs": [],
   "metadata": {}
  },
  {
   "cell_type": "code",
   "execution_count": 27,
   "source": [
    "search_box = wd.find_element_by_css_selector('input.gLFyf')\r\n",
    "search_box.send_keys('Pandas')"
   ],
   "outputs": [],
   "metadata": {}
  },
  {
   "cell_type": "code",
   "execution_count": 28,
   "source": [
    "wd.quit() # closing the driver"
   ],
   "outputs": [],
   "metadata": {}
  },
  {
   "cell_type": "code",
   "execution_count": 29,
   "source": [
    "# for download the image \r\n",
    "# !pip install Pillow"
   ],
   "outputs": [],
   "metadata": {}
  },
  {
   "cell_type": "code",
   "execution_count": 30,
   "source": [
    "# def fetch_image_urls(query:str, max_links_to_fetch:int, wd:webdriver, sleep_between_interactions:int=1):\r\n",
    "def fetch_image_urls(query:'polar bear', max_links_to_fetch:5, wd:'instantiated Webdriver', sleep_between_interactions:int=1):\r\n",
    "\r\n",
    "    # query : Search term, like Dog\r\n",
    "    # max_links_to_fetch : Number of links the scraper is supposed to collect\r\n",
    "    # webdriver : instantiated Webdriver\r\n",
    "    \r\n",
    "    def scroll_to_end(wd):\r\n",
    "        wd.execute_script(\"window.scrollTo(0, document.body.scrollHeight);\")\r\n",
    "        time.sleep(sleep_between_interactions)    \r\n",
    "    \r\n",
    "    # build the google query\r\n",
    "    search_url = \"https://www.google.com/search?safe=off&site=&tbm=isch&source=hp&q={q}&oq={q}&gs_l=img\"\r\n",
    "\r\n",
    "    # load the page\r\n",
    "    wd.get(search_url.format(q=query))\r\n",
    "\r\n",
    "    image_urls = set()\r\n",
    "    image_count = 0\r\n",
    "    results_start = 0\r\n",
    "    while image_count < max_links_to_fetch:\r\n",
    "        scroll_to_end(wd)\r\n",
    "\r\n",
    "        # get all image thumbnail results\r\n",
    "        thumbnail_results = wd.find_elements_by_css_selector(\"img.Q4LuWd\")\r\n",
    "        number_results = len(thumbnail_results)\r\n",
    "        \r\n",
    "        print(f\"Found: {number_results} search results. Extracting links from {results_start}:{number_results}\")\r\n",
    "        \r\n",
    "        for img in thumbnail_results[results_start:number_results]:\r\n",
    "            # try to click every thumbnail such that we can get the real image behind it\r\n",
    "            try:\r\n",
    "                img.click()\r\n",
    "                time.sleep(sleep_between_interactions)\r\n",
    "            except Exception:\r\n",
    "                continue\r\n",
    "\r\n",
    "            # extract image urls    \r\n",
    "            actual_images = wd.find_elements_by_css_selector('img.n3VNCb')\r\n",
    "            for actual_image in actual_images:\r\n",
    "                if actual_image.get_attribute('src') and 'http' in actual_image.get_attribute('src'):\r\n",
    "                    image_urls.add(actual_image.get_attribute('src'))\r\n",
    "\r\n",
    "            image_count = len(image_urls)\r\n",
    "\r\n",
    "            if len(image_urls) >= max_links_to_fetch:\r\n",
    "                print(f\"Found: {len(image_urls)} image links, done!\")\r\n",
    "                break\r\n",
    "        else:\r\n",
    "            print(\"Found:\", len(image_urls), \"image links, looking for more ...\")\r\n",
    "            time.sleep(30)\r\n",
    "            return\r\n",
    "            load_more_button = wd.find_element_by_css_selector(\".mye4qd\")\r\n",
    "            if load_more_button:\r\n",
    "                wd.execute_script(\"document.querySelector('.mye4qd').click();\")\r\n",
    "\r\n",
    "        # move the result startpoint further down\r\n",
    "        results_start = len(thumbnail_results)\r\n",
    "\r\n",
    "    return image_urls"
   ],
   "outputs": [],
   "metadata": {}
  },
  {
   "cell_type": "code",
   "execution_count": 31,
   "source": [
    "def persist_image(folder_path:str,url:str):\r\n",
    "    try:\r\n",
    "        image_content = requests.get(url).content\r\n",
    "\r\n",
    "    except Exception as e:\r\n",
    "        print(f\"ERROR - Could not download {url} - {e}\")\r\n",
    "\r\n",
    "    try:\r\n",
    "        image_file = io.BytesIO(image_content)\r\n",
    "        image = Image.open(image_file).convert('RGB')\r\n",
    "        file_path = os.path.join(folder_path,hashlib.sha1(image_content).hexdigest()[:10] + '.jpg')\r\n",
    "        with open(file_path, 'wb') as f:\r\n",
    "            image.save(f, \"JPEG\", quality=85)\r\n",
    "        print(f\"SUCCESS - saved {url} - as {file_path}\")\r\n",
    "    except Exception as e:\r\n",
    "        print(f\"ERROR - Could not save {url} - {e}\")"
   ],
   "outputs": [],
   "metadata": {}
  },
  {
   "cell_type": "code",
   "execution_count": 32,
   "source": [
    "def search_and_download(search_term:str,driver_path:str,target_path='./images',number_images=50):\r\n",
    "    target_folder = os.path.join(target_path,'_'.join(search_term.lower().split(' ')))\r\n",
    "\r\n",
    "    if not os.path.exists(target_folder):\r\n",
    "        os.makedirs(target_folder)\r\n",
    "\r\n",
    "    with webdriver.Chrome(executable_path=driver_path) as wd:\r\n",
    "        res = fetch_image_urls(search_term, number_images, wd=wd, sleep_between_interactions=0.5)\r\n",
    "        \r\n",
    "    for elem in res:\r\n",
    "        persist_image(target_folder,elem)"
   ],
   "outputs": [],
   "metadata": {}
  },
  {
   "cell_type": "code",
   "execution_count": 33,
   "source": [
    "search_term = 'polor bear'\r\n",
    "search_and_download(\r\n",
    "    search_term=search_term,\r\n",
    "    driver_path=DRIVER_PATH\r\n",
    ")\r\n"
   ],
   "outputs": [
    {
     "output_type": "stream",
     "name": "stdout",
     "text": [
      "Found: 100 search results. Extracting links from 0:100\n",
      "Found: 51 image links, done!\n",
      "SUCCESS - saved https://encrypted-tbn0.gstatic.com/images?q=tbn:ANd9GcQrUjNBOtdXph2x30lcLAKNqFj0ETRhTvzyxg&usqp=CAU - as ./images\\polor_bear\\a528b40a88.jpg\n",
      "SUCCESS - saved https://i.insider.com/5a2affc18a49867d0c8b4cb5?width=1136&format=jpeg - as ./images\\polor_bear\\3ffe428cf0.jpg\n",
      "SUCCESS - saved https://encrypted-tbn0.gstatic.com/images?q=tbn:ANd9GcSuzDE-3z7iJNQPildmU6ck2aTT0bzm9cp6rw&usqp=CAU - as ./images\\polor_bear\\c9ada4e7d8.jpg\n",
      "SUCCESS - saved https://encrypted-tbn0.gstatic.com/images?q=tbn:ANd9GcSixpJ7bJeUXwz0AqHTEGByyD6zkkMR1oUivQ&usqp=CAU - as ./images\\polor_bear\\4dec7db10d.jpg\n",
      "SUCCESS - saved https://encrypted-tbn0.gstatic.com/images?q=tbn:ANd9GcQmFwlmfjS7Ba4YcrAjHyCxnUCopcueSOfsQg&usqp=CAU - as ./images\\polor_bear\\268518df17.jpg\n",
      "SUCCESS - saved https://encrypted-tbn0.gstatic.com/images?q=tbn:ANd9GcRLM-iBOl_4wF2sL4niOWh5BSkoAQNp0o2tKg&usqp=CAU - as ./images\\polor_bear\\d0a68952b9.jpg\n",
      "SUCCESS - saved https://encrypted-tbn0.gstatic.com/images?q=tbn:ANd9GcTsYkfWHI6gyL7fg1dxP2dHFicuuzR36vanOQ&usqp=CAU - as ./images\\polor_bear\\3b4cf1e6fa.jpg\n",
      "SUCCESS - saved https://encrypted-tbn0.gstatic.com/images?q=tbn:ANd9GcR_ukYRqCrs_SfXjlLZZMiEEaYcs26y3GiO-Q&usqp=CAU - as ./images\\polor_bear\\3c1ce1cbe1.jpg\n",
      "SUCCESS - saved https://encrypted-tbn0.gstatic.com/images?q=tbn:ANd9GcQ9igFAU4LrfQ8n2ilG-In0F4yNG6E_Bp0U1Q&usqp=CAU - as ./images\\polor_bear\\e49550deff.jpg\n",
      "SUCCESS - saved https://i.guim.co.uk/img/media/bd0ae53a32f1d444fcf2a51181a7c895af2d012e/0_119_5184_3110/master/5184.jpg?width=1200&height=1200&quality=85&auto=format&fit=crop&s=aba53ba9ba4175cf9cb51887b1f41ebc - as ./images\\polor_bear\\3290b423c2.jpg\n",
      "SUCCESS - saved https://cdn.britannica.com/52/162652-050-6A676116/Polar-bears-ice-floe-Norway.jpg - as ./images\\polor_bear\\f02e68f484.jpg\n",
      "SUCCESS - saved https://encrypted-tbn0.gstatic.com/images?q=tbn:ANd9GcSm8BZ4XpBjW_Fa3L_-inb9JXPp7lJUHRNjPw&usqp=CAU - as ./images\\polor_bear\\43f88bd573.jpg\n",
      "SUCCESS - saved https://encrypted-tbn0.gstatic.com/images?q=tbn:ANd9GcQlO5qMZP9Fajbc7Gz5F48YoqNoz8d8IQ2jsQ&usqp=CAU - as ./images\\polor_bear\\bdbcbf13bd.jpg\n",
      "SUCCESS - saved https://encrypted-tbn0.gstatic.com/images?q=tbn:ANd9GcRZ-48q5PWecbs0JmMxdomBNdcFAv7dt6QZNA&usqp=CAU - as ./images\\polor_bear\\c2f807a117.jpg\n",
      "SUCCESS - saved https://encrypted-tbn0.gstatic.com/images?q=tbn:ANd9GcTCxj6OZr-qL3pe8jv7LvhfJlDbsBRbK_sZhw&usqp=CAU - as ./images\\polor_bear\\4afe0bb7b4.jpg\n",
      "SUCCESS - saved https://encrypted-tbn0.gstatic.com/images?q=tbn:ANd9GcQwve3GecQb27_u-cmTIDDhtYGqGFsdSLzEsQ&usqp=CAU - as ./images\\polor_bear\\70f1174a69.jpg\n",
      "SUCCESS - saved https://i.ytimg.com/vi/wEFwPy5XclA/maxresdefault.jpg - as ./images\\polor_bear\\08b35fa2a0.jpg\n",
      "SUCCESS - saved https://cdn.audleytravel.com/3994/2849/79/1340901-polar-bear-churchill.jpg - as ./images\\polor_bear\\1b0ad94588.jpg\n",
      "SUCCESS - saved https://encrypted-tbn0.gstatic.com/images?q=tbn:ANd9GcQeSw1HCXV3UjQTdc62wltvddDDKFYRBxCT_Q&usqp=CAU - as ./images\\polor_bear\\2e4b7a45e6.jpg\n",
      "SUCCESS - saved https://files.worldwildlife.org/wwfcmsprod/images/Polar_bear_on_ice_CROPPED_Giving_Tuesday_WW22622_Kazlowski/carousel_small/8p8lkvcfkw_2019_11_GivingTuesday_2.jpg - as ./images\\polor_bear\\564b19d9a5.jpg\n",
      "SUCCESS - saved https://i.ytimg.com/vi/3CxFfSeggPc/maxresdefault.jpg - as ./images\\polor_bear\\6dad5adefe.jpg\n",
      "SUCCESS - saved https://encrypted-tbn0.gstatic.com/images?q=tbn:ANd9GcQBboBhUrcP8M4vJATKAcuUfJUBys0jTedB8g&usqp=CAU - as ./images\\polor_bear\\643b0661a2.jpg\n",
      "SUCCESS - saved https://encrypted-tbn0.gstatic.com/images?q=tbn:ANd9GcSFp7iy7gTAKEv8oSVii3Nc2FhkNLlfpO2KTA&usqp=CAU - as ./images\\polor_bear\\02ba683c2b.jpg\n",
      "SUCCESS - saved https://encrypted-tbn0.gstatic.com/images?q=tbn:ANd9GcTAHOksgmce-ZO2QoTkdWPBdoglg85DjhD8Tg&usqp=CAU - as ./images\\polor_bear\\abdc69efa2.jpg\n",
      "SUCCESS - saved https://encrypted-tbn0.gstatic.com/images?q=tbn:ANd9GcRwZIsk26p6mxg7HThOHVyFjERIQHt8kf1l0w&usqp=CAU - as ./images\\polor_bear\\92e50e9f0f.jpg\n",
      "SUCCESS - saved https://d2i45monewphm9.cloudfront.net/wp-content/uploads/2020/09/Polar-Bear-Photo.jpg - as ./images\\polor_bear\\c74a61b989.jpg\n",
      "SUCCESS - saved https://encrypted-tbn0.gstatic.com/images?q=tbn:ANd9GcQEMzvwSqqjSANkuKm1fwvGD5qsTeemZ9w56A&usqp=CAU - as ./images\\polor_bear\\5dbef3cc85.jpg\n",
      "SUCCESS - saved https://media.hswstatic.com/eyJidWNrZXQiOiJjb250ZW50Lmhzd3N0YXRpYy5jb20iLCJrZXkiOiJnaWZcL3BvbGFyLWJlYXItNy5qcGciLCJlZGl0cyI6eyJyZXNpemUiOnsid2lkdGgiOiIxMjAwIn19fQ== - as ./images\\polor_bear\\2a27ffefd5.jpg\n",
      "SUCCESS - saved https://images.hindustantimes.com/rf/image_size_960x540/HT/p2/2018/01/05/Pictures/_cc192352-f232-11e7-a734-adae4971e2ad.jpg - as ./images\\polor_bear\\e03e756f2c.jpg\n",
      "SUCCESS - saved https://encrypted-tbn0.gstatic.com/images?q=tbn:ANd9GcTW4iFBj0U_46fnFatF7icR4_xXUJFzcZjEbA&usqp=CAU - as ./images\\polor_bear\\edd21c7578.jpg\n",
      "SUCCESS - saved https://i.ytimg.com/vi/vZjFVb0jdbc/maxresdefault.jpg - as ./images\\polor_bear\\ad3cb3e2b6.jpg\n",
      "SUCCESS - saved https://static.scientificamerican.com/sciam/cache/file/F061884D-0E33-4B9D-84CDB8B26ECB80A8.jpg - as ./images\\polor_bear\\003dcec3b7.jpg\n",
      "SUCCESS - saved https://encrypted-tbn0.gstatic.com/images?q=tbn:ANd9GcRNXx1mocrLl7lU1-Wg9YHXR4Dwq3Oa3HjUQg&usqp=CAU - as ./images\\polor_bear\\7566ce7c11.jpg\n",
      "SUCCESS - saved https://encrypted-tbn0.gstatic.com/images?q=tbn:ANd9GcRURrW_v5e-gvvtsQYbIRaj4Eop19suwJib_Q&usqp=CAU - as ./images\\polor_bear\\c631fc321f.jpg\n",
      "SUCCESS - saved https://ichef.bbci.co.uk/news/976/cpsprodpb/FF21/production/_109031356_mediaitem109029432.jpg - as ./images\\polor_bear\\4c44d7ae93.jpg\n",
      "SUCCESS - saved https://c.files.bbci.co.uk/3A88/production/_99848941_05ab1ff3-5f7f-400b-859a-a8de4d8c29d1.jpg - as ./images\\polor_bear\\537bb291af.jpg\n",
      "SUCCESS - saved https://media.newyorker.com/photos/5d0c0e8703a3037b6b7e42d5/1:1/w_1705,h_1705,c_limit/TNY-AnnalsofAppearance.jpg - as ./images\\polor_bear\\c3aed8d469.jpg\n",
      "SUCCESS - saved https://encrypted-tbn0.gstatic.com/images?q=tbn:ANd9GcTeT4N6QnXhaBcx_VXm6HhPIjc35IfI14l4gg&usqp=CAU - as ./images\\polor_bear\\e3611f8c81.jpg\n",
      "SUCCESS - saved https://img.etimg.com/thumb/msid-81614683,width-1070,height-580,overlay-economictimes/photo.jpg - as ./images\\polor_bear\\ee2143bca7.jpg\n",
      "SUCCESS - saved https://encrypted-tbn0.gstatic.com/images?q=tbn:ANd9GcTfsfnDIE_t4IqQh1NPM8urj_WH28RX06ypRA&usqp=CAU - as ./images\\polor_bear\\2d72b9bdc9.jpg\n",
      "SUCCESS - saved http://www.takepart.com/sites/default/files/polar-bear-MAIN2.jpg - as ./images\\polor_bear\\e476cd51a5.jpg\n",
      "SUCCESS - saved https://media.nature.com/w700/magazine-assets/d41586-021-02438-1/d41586-021-02438-1_19623004.jpg - as ./images\\polor_bear\\10a340be87.jpg\n",
      "SUCCESS - saved https://encrypted-tbn0.gstatic.com/images?q=tbn:ANd9GcQwotPdDIGtg1bXR23MDpEVaXH1JilZ7tAy7g&usqp=CAU - as ./images\\polor_bear\\d81f0763d4.jpg\n",
      "SUCCESS - saved https://i1.wp.com/artfulliving.com/wp-content/uploads/2020/09/POLAR-BEAR-CAPITAL-FB.jpg?fit=1200%2C630&ssl=1 - as ./images\\polor_bear\\5bc2c2c73e.jpg\n",
      "SUCCESS - saved https://geographical.co.uk/media/k2/items/cache/5098e75e57e36807c173cb7490b1b0d2_XL.jpg - as ./images\\polor_bear\\7360e2b94c.jpg\n",
      "SUCCESS - saved https://i.natgeofe.com/k/32a45b33-5468-40e4-8b94-a7489871729b/polar-bear-cub-on-mom_2x1.jpg - as ./images\\polor_bear\\5df4f74dfd.jpg\n",
      "SUCCESS - saved https://encrypted-tbn0.gstatic.com/images?q=tbn:ANd9GcToif_h9P83fkvzrScG8gL9c6VmWGzuFAVTXg&usqp=CAU - as ./images\\polor_bear\\a2d1e86c71.jpg\n",
      "SUCCESS - saved https://pyxis.nymag.com/v1/imgs/1be/59b/387489f1b8413ff360c3eead07c710621c-polar-bears.2x.rsocial.w600.jpg - as ./images\\polor_bear\\33680dbfa6.jpg\n",
      "SUCCESS - saved https://static.dw.com/image/56517237_6.jpg - as ./images\\polor_bear\\64ce4ae41c.jpg\n",
      "SUCCESS - saved https://i.ytimg.com/vi/g16npdX6yLk/maxresdefault.jpg - as ./images\\polor_bear\\89ade33358.jpg\n",
      "SUCCESS - saved https://images.immediate.co.uk/production/volatile/sites/23/2016/07/Polar-bear-with-twin-cubs.-GettyImages-200194794-001-e9f0d9e.jpg?quality=45&resize=768,574 - as ./images\\polor_bear\\4ddda00979.jpg\n"
     ]
    }
   ],
   "metadata": {}
  },
  {
   "cell_type": "code",
   "execution_count": null,
   "source": [],
   "outputs": [],
   "metadata": {}
  }
 ],
 "metadata": {
  "orig_nbformat": 4,
  "language_info": {
   "name": "python",
   "version": "3.7.11",
   "mimetype": "text/x-python",
   "codemirror_mode": {
    "name": "ipython",
    "version": 3
   },
   "pygments_lexer": "ipython3",
   "nbconvert_exporter": "python",
   "file_extension": ".py"
  },
  "kernelspec": {
   "name": "python3",
   "display_name": "Python 3.7.11 64-bit ('webscraping': conda)"
  },
  "interpreter": {
   "hash": "7cccc95c04ff0bfb4d59500f2dcd505d1d7d3049ccad7e9f8b3a694b435cb40d"
  }
 },
 "nbformat": 4,
 "nbformat_minor": 2
}