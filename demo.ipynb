{
 "cells": [
  {
   "cell_type": "code",
   "execution_count": 12,
   "source": [
    "import selenium\r\n",
    "import time\r\n",
    "from selenium import webdriver\r\n",
    "import io\r\n",
    "from io import StringIO\r\n",
    "import string\r\n",
    "from PIL import Image\r\n",
    "import hashlib\r\n",
    "import os\r\n",
    "import requests\r\n"
   ],
   "outputs": [],
   "metadata": {}
  },
  {
   "cell_type": "markdown",
   "source": [
    "## driver download link - https://chromedriver.chromium.org/downloads\r\n",
    "## make sure you put chromedriver exe file in same folder as where is your py file (Important)\r\n",
    "## my chrome browser Version 93.0.4577.63 (Official Build) (64-bit) this diver is work for this only,\r\n",
    "## so you have to check your version and download the driver first."
   ],
   "metadata": {}
  },
  {
   "cell_type": "code",
   "execution_count": 13,
   "source": [
    "DRIVER_PATH = 'chromedriver.exe'\r\n",
    "wd = webdriver.Chrome(executable_path=DRIVER_PATH)"
   ],
   "outputs": [],
   "metadata": {}
  },
  {
   "cell_type": "code",
   "execution_count": 14,
   "source": [
    "wd.get('https://google.com')"
   ],
   "outputs": [],
   "metadata": {}
  },
  {
   "cell_type": "code",
   "execution_count": 15,
   "source": [
    "search_box = wd.find_element_by_css_selector('input.gLFyf')\r\n",
    "search_box.send_keys('Pandas')   #####Change the name of animal like cat or dog "
   ],
   "outputs": [],
   "metadata": {}
  },
  {
   "cell_type": "code",
   "execution_count": 16,
   "source": [
    "# wd.quit() # for closing the crome tab"
   ],
   "outputs": [],
   "metadata": {}
  },
  {
   "cell_type": "code",
   "execution_count": null,
   "source": [],
   "outputs": [],
   "metadata": {}
  }
 ],
 "metadata": {
  "orig_nbformat": 4,
  "language_info": {
   "name": "python",
   "version": "3.7.11",
   "mimetype": "text/x-python",
   "codemirror_mode": {
    "name": "ipython",
    "version": 3
   },
   "pygments_lexer": "ipython3",
   "nbconvert_exporter": "python",
   "file_extension": ".py"
  },
  "kernelspec": {
   "name": "python3",
   "display_name": "Python 3.7.11 64-bit ('webscraping': conda)"
  },
  "interpreter": {
   "hash": "7cccc95c04ff0bfb4d59500f2dcd505d1d7d3049ccad7e9f8b3a694b435cb40d"
  }
 },
 "nbformat": 4,
 "nbformat_minor": 2
}